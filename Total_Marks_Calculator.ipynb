{
  "nbformat": 4,
  "nbformat_minor": 0,
  "metadata": {
    "colab": {
      "provenance": [],
      "authorship_tag": "ABX9TyOm2qogdDOa3rXsfn32IMMX",
      "include_colab_link": true
    },
    "kernelspec": {
      "name": "python3",
      "display_name": "Python 3"
    },
    "language_info": {
      "name": "python"
    }
  },
  "cells": [
    {
      "cell_type": "markdown",
      "metadata": {
        "id": "view-in-github",
        "colab_type": "text"
      },
      "source": [
        "<a href=\"https://colab.research.google.com/github/Aarushi900/Total_Marks_Calculator/blob/main/Total_Marks_Calculator.ipynb\" target=\"_parent\"><img src=\"https://colab.research.google.com/assets/colab-badge.svg\" alt=\"Open In Colab\"/></a>"
      ]
    },
    {
      "cell_type": "markdown",
      "source": [
        "\n",
        "\n",
        "---\n",
        "\n",
        "# Total_Marks_Calculator\n",
        "\n",
        "---\n",
        "\n"
      ],
      "metadata": {
        "id": "5BVJdsCz8hFD"
      }
    },
    {
      "cell_type": "markdown",
      "source": [
        "**Description**:We have an input csv containing roll no and marks where a roll no. may exist any number of times. Hence our application adds that marks and then save the output in form of csv containing roll no and total marks\n",
        "\n",
        "**Applications**: Has a good scope in academic applications or other domains where we need to add up multiple instances of same thing\n",
        "\n",
        "**Input-Output Format**:\n",
        "*   Input file contain Roll numbers and marks.\n",
        "*   Create output file that add all the marks\n",
        "---\n"
      ],
      "metadata": {
        "id": "ni9qnOoB8_Pw"
      }
    },
    {
      "cell_type": "markdown",
      "source": [
        "Libraries used"
      ],
      "metadata": {
        "id": "R6zbrkyQ-P5-"
      }
    },
    {
      "cell_type": "code",
      "source": [
        "import csv"
      ],
      "metadata": {
        "id": "paC3EnKq-SOb"
      },
      "execution_count": 2,
      "outputs": []
    },
    {
      "cell_type": "markdown",
      "source": [
        "Function for the program"
      ],
      "metadata": {
        "id": "zBCjjbpY9nTf"
      }
    },
    {
      "cell_type": "code",
      "source": [
        "def cal_total_marks(input_csv):\n",
        "  roll_marks = {}\n",
        "  with open(input_csv,'r') as file:\n",
        "    reader = csv.reader(file)\n",
        "\n",
        "    header= next(reader, None)\n",
        "\n",
        "    for row in reader:\n",
        "      roll_no = row[0]\n",
        "      marks = float(row[1])\n",
        "\n",
        "      if roll_no in roll_marks:\n",
        "        roll_marks[roll_no] += marks\n",
        "      else:\n",
        "        roll_marks[roll_no] =marks\n",
        "\n",
        "\n",
        "    output_csv = input_csv.split('.csv')[0] + '_output.csv'\n",
        "\n",
        "    with open(output_csv, 'w') as file:\n",
        "      writer = csv.writer(file)\n",
        "\n",
        "      writer.writerow(['Roll No.','Total Marks'])\n",
        "\n",
        "      for roll_no, total_marks in roll_marks.items():\n",
        "        writer.writerow([roll_no,total_marks])"
      ],
      "metadata": {
        "id": "CambzrYF9iSS"
      },
      "execution_count": 5,
      "outputs": []
    },
    {
      "cell_type": "markdown",
      "source": [
        "Providing the Input"
      ],
      "metadata": {
        "id": "vHirrNhZAXQ7"
      }
    },
    {
      "cell_type": "code",
      "execution_count": 6,
      "metadata": {
        "id": "w1U2fbFb8aUc"
      },
      "outputs": [],
      "source": [
        "input_csv_path = '/content/RollNo_Marks.csv'\n",
        "\n",
        "cal_total_marks(input_csv_path)"
      ]
    }
  ]
}